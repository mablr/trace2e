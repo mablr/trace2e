{
 "cells": [
  {
   "cell_type": "code",
   "execution_count": 49,
   "metadata": {},
   "outputs": [],
   "source": [
    "import pandas as pd\n",
    "import numpy as np\n",
    "import matplotlib.pyplot as plt\n"
   ]
  },
  {
   "cell_type": "code",
   "execution_count": 50,
   "metadata": {},
   "outputs": [],
   "source": [
    "df_tcpstream = pd.read_csv('data/bench_tcpstream.csv', delimiter=';', )\n",
    "df_file = pd.read_csv('data/bench_file.csv', delimiter=';')"
   ]
  },
  {
   "cell_type": "code",
   "execution_count": 51,
   "metadata": {},
   "outputs": [],
   "source": [
    "tcpstream_mean_std_time = df_tcpstream['std_total_time'].mean()\n",
    "tcpstream_mean_stde2e_full_time = df_tcpstream['stde2e_total_time'].mean()\n",
    "tcpstream_mean_p2m_m2m_overhead = df_tcpstream['p2m_m2m_overhead'].mean()\n",
    "tcpstream_mean_stde2e_exec_time = tcpstream_mean_stde2e_full_time - tcpstream_mean_p2m_m2m_overhead\n",
    "file_mean_std_time = df_file['std_total_time'].mean()\n",
    "file_mean_stde2e_full_time = df_file['stde2e_total_time'].mean()\n",
    "file_mean_p2m_overhead = df_file['p2m_overhead'].mean()\n",
    "file_mean_stde2e_exec_time = file_mean_stde2e_full_time - file_mean_p2m_overhead"
   ]
  },
  {
   "cell_type": "code",
   "execution_count": null,
   "metadata": {},
   "outputs": [],
   "source": [
    "# Set up the data for plotting\n",
    "categories = ['File', 'TCP Stream']\n",
    "std_times = [file_mean_std_time, tcpstream_mean_std_time]\n",
    "stde2e_exec_times = [file_mean_stde2e_exec_time, tcpstream_mean_stde2e_exec_time]\n",
    "protocoloverhead_times = [file_mean_p2m_overhead, tcpstream_mean_p2m_m2m_overhead]\n",
    "\n",
    "# Set width of bars\n",
    "bar_width = 0.35\n",
    "x = np.arange(len(categories))\n",
    "\n",
    "# Create the figure and axis\n",
    "fig, ax = plt.subplots(figsize=(10, 6))\n",
    "\n",
    "# Create the bars\n",
    "bars1 = ax.bar(x - bar_width/2, std_times, bar_width, label='Std Execution Time')\n",
    "\n",
    "# Create stacked bars for StdE2E execution time and protocol overhead\n",
    "bars2 = ax.bar(x + bar_width/2, stde2e_exec_times, bar_width, label='StdE2E Execution Time')\n",
    "bars3 = ax.bar(x + bar_width/2, protocoloverhead_times, bar_width, \n",
    "               bottom=stde2e_exec_times, label='Protocol Overhead')\n",
    "\n",
    "# Add labels, title and legend\n",
    "ax.set_xlabel('Resource Type')\n",
    "ax.set_ylabel('Execution Time (us)')\n",
    "ax.set_title('Std vs StdE2E Execution with Protocol Overhead')\n",
    "ax.set_xticks(x)\n",
    "ax.set_xticklabels(categories)\n",
    "ax.legend()\n",
    "\n",
    "# Add values on top of bars\n",
    "def add_labels(bars):\n",
    "    for bar in bars:\n",
    "        height = bar.get_height()\n",
    "        ax.annotate(f'{height:.0f}',\n",
    "                    xy=(bar.get_x() + bar.get_width() / 2, height),\n",
    "                    xytext=(0, 3),  # 3 points vertical offset\n",
    "                    textcoords=\"offset points\",\n",
    "                    ha='center', va='bottom')\n",
    "\n",
    "add_labels(bars1)\n",
    "add_labels(bars2)\n",
    "\n",
    "# Add total height labels for stacked bars\n",
    "for i, (exec_time, overhead) in enumerate(zip(stde2e_exec_times, protocoloverhead_times)):\n",
    "    total = exec_time + overhead\n",
    "    ax.annotate(f'{total:.0f}',\n",
    "                xy=(x[i] + bar_width/2, total),\n",
    "                xytext=(0, 3),  # 3 points vertical offset\n",
    "                textcoords=\"offset points\",\n",
    "                ha='center', va='bottom')\n",
    "\n",
    "plt.tight_layout()\n",
    "plt.show()"
   ]
  }
 ],
 "metadata": {
  "kernelspec": {
   "display_name": ".venv",
   "language": "python",
   "name": "python3"
  },
  "language_info": {
   "codemirror_mode": {
    "name": "ipython",
    "version": 3
   },
   "file_extension": ".py",
   "mimetype": "text/x-python",
   "name": "python",
   "nbconvert_exporter": "python",
   "pygments_lexer": "ipython3",
   "version": "3.11.2"
  }
 },
 "nbformat": 4,
 "nbformat_minor": 2
}
