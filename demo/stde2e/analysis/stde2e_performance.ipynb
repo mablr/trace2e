{
 "cells": [
  {
   "cell_type": "code",
   "metadata": {},
   "outputs": [],
   "source": [
    "import pandas as pd\n",
    "import numpy as np\n",
    "import matplotlib.pyplot as plt"
   ]
  },
  {
   "cell_type": "code",
   "metadata": {},
   "outputs": [],
   "source": [
    "df_tcpstream = pd.read_csv('data/bench_tcpstream.csv', delimiter=';', )\n",
    "df_file = pd.read_csv('data/bench_file.csv', delimiter=';')"
   ]
  },
  {
   "cell_type": "code",
   "metadata": {},
   "outputs": [],
   "source": [
    "# Calculate the mean of each column for both dataframes\n",
    "tcpstream_means = df_tcpstream.mean()\n",
    "file_means = df_file.mean()\n"
   ]
  },
  {
   "cell_type": "code",
   "metadata": {},
   "outputs": [],
   "source": [
    "tcpstream_means['io_time'] = tcpstream_means['read_io_time'] + tcpstream_means['write_io_time']\n",
    "file_means['io_time'] = file_means['read_io_time'] + file_means['write_io_time']\n"
   ]
  },
  {
   "cell_type": "code",
   "metadata": {},
   "outputs": [],
   "source": [
    "tcpstream_means['p2m_overhead'] = tcpstream_means['read_enroll_req_time'] + tcpstream_means['write_enroll_req_time'] + tcpstream_means['read_enroll_ack_time'] + tcpstream_means['write_enroll_ack_time'] + tcpstream_means['read_io_request_req_time'] + tcpstream_means['write_io_request_req_time'] + tcpstream_means['read_io_request_ack_time'] + tcpstream_means['write_io_request_ack_time'] + tcpstream_means['read_io_report_req_time'] + tcpstream_means['write_io_report_req_time'] + tcpstream_means['read_io_report_ack_time'] + tcpstream_means['write_io_report_ack_time']\n",
    "file_means['p2m_overhead'] = file_means['read_enroll_req_time'] + file_means['write_enroll_req_time'] + file_means['read_enroll_ack_time'] + file_means['write_enroll_ack_time'] + file_means['read_io_request_req_time'] + file_means['write_io_request_req_time'] + file_means['read_io_request_ack_time'] + file_means['write_io_request_ack_time'] + file_means['read_io_report_req_time'] + file_means['write_io_report_req_time'] + file_means['read_io_report_ack_time'] + file_means['write_io_report_ack_time']"
   ]
  },
  {
   "cell_type": "code",
   "metadata": {},
   "outputs": [],
   "source": [
    "tcpstream_means['middleware_overhead'] = tcpstream_means['read_enroll_processing_time'] + tcpstream_means['write_enroll_processing_time'] + tcpstream_means['read_io_request_processing_time'] + tcpstream_means['write_io_request_processing_time'] + tcpstream_means['read_io_report_processing_time'] + tcpstream_means['write_io_report_processing_time']\n",
    "file_means['middleware_overhead'] = file_means['read_enroll_processing_time'] + file_means['write_enroll_processing_time'] + file_means['read_io_request_processing_time'] + file_means['write_io_request_processing_time'] + file_means['read_io_report_processing_time'] + file_means['write_io_report_processing_time']"
   ]
  },
  {
   "cell_type": "code",
   "metadata": {},
   "outputs": [],
   "source": [
    "tcpstream_means['m2m_overhead'] = tcpstream_means['write_reserve_req_time'] + tcpstream_means['write_reserve_ack_time'] + tcpstream_means['write_sync_prov_req_time'] + tcpstream_means['write_sync_prov_ack_time']"
   ]
  },
  {
   "cell_type": "code",
   "metadata": {},
   "outputs": [],
   "source": [
    "# Create labels and positions for the bars\n",
    "labels = ['File', 'TcpStream']\n",
    "x = np.arange(len(labels))\n",
    "width = 0.35  # width of the bars\n",
    "\n",
    "# Create figure and axis\n",
    "fig, ax = plt.subplots(figsize=(10, 6))\n",
    "\n",
    "# For the single bars showing io_time only\n",
    "io_time_bars = [file_means['io_time'], tcpstream_means['io_time']]\n",
    "ax.bar(x - width/2, io_time_bars, width, label='IO Time Only', color='skyblue')\n",
    "\n",
    "# For the stacked bars\n",
    "# First layer: io_time\n",
    "stacked_io_time = ax.bar(x + width/2, \n",
    "                        [file_means['io_time'], tcpstream_means['io_time']], \n",
    "                        width, \n",
    "                        label='IO Time', \n",
    "                        color='royalblue')\n",
    "\n",
    "# Check if 'middleware_overhead' exists in the dataframes\n",
    "# If not present, you might need to calculate it or set to 0\n",
    "if 'middleware_overhead' not in file_means or 'middleware_overhead' not in tcpstream_means:\n",
    "    file_means['middleware_overhead'] = 0\n",
    "    tcpstream_means['middleware_overhead'] = 0\n",
    "\n",
    "# Second layer: middleware_overhead\n",
    "stacked_middleware = ax.bar(x + width/2, \n",
    "                            [file_means['middleware_overhead'], tcpstream_means['middleware_overhead']], \n",
    "                            width, \n",
    "                            bottom=[file_means['io_time'], tcpstream_means['io_time']], \n",
    "                            label='Middleware Overhead', \n",
    "                            color='lightgreen')\n",
    "\n",
    "# Third layer: p2m_overhead\n",
    "stacked_p2m = ax.bar(x + width/2, \n",
    "                    [file_means['p2m_overhead'], tcpstream_means['p2m_overhead']], \n",
    "                    width, \n",
    "                    bottom=[file_means['io_time'] + file_means['middleware_overhead'], \n",
    "                           tcpstream_means['io_time'] + tcpstream_means['middleware_overhead']], \n",
    "                    label='P2M Overhead', \n",
    "                    color='salmon')\n",
    "\n",
    "# Add labels, title and legend\n",
    "ax.set_xlabel('I/O Method')\n",
    "ax.set_ylabel('Time (seconds)')\n",
    "ax.set_title('Comparison of I/O Methods: File vs TcpStream')\n",
    "ax.set_xticks(x)\n",
    "ax.set_xticklabels(labels)\n",
    "ax.legend()\n",
    "\n",
    "# Add values on top of the bars\n",
    "for i, v in enumerate(io_time_bars):\n",
    "    ax.text(i - width/2, v + 0.01, f'{v:.3f}', ha='center', va='bottom')\n",
    "\n",
    "# Adding a total time label on top of the stacked bars\n",
    "total_time_file = file_means['io_time'] + file_means['middleware_overhead'] + file_means['p2m_overhead']\n",
    "total_time_tcp = tcpstream_means['io_time'] + tcpstream_means['middleware_overhead'] + tcpstream_means['p2m_overhead']\n",
    "ax.text(0 + width/2, total_time_file + 0.01, f'{total_time_file:.3f}', ha='center', va='bottom')\n",
    "ax.text(1 + width/2, total_time_tcp + 0.01, f'{total_time_tcp:.3f}', ha='center', va='bottom')\n",
    "\n",
    "# Add a grid to make it easier to read values\n",
    "ax.grid(axis='y', linestyle='--', alpha=0.7)\n",
    "\n",
    "plt.tight_layout()\n",
    "plt.show()"
   ]
  }
 ],
 "metadata": {
  "kernelspec": {
   "display_name": ".venv",
   "language": "python",
   "name": "python3"
  },
  "language_info": {
   "codemirror_mode": {
    "name": "ipython",
    "version": 3
   },
   "file_extension": ".py",
   "mimetype": "text/x-python",
   "name": "python",
   "nbconvert_exporter": "python",
   "pygments_lexer": "ipython3",
   "version": "3.11.2"
  }
 },
 "nbformat": 4,
 "nbformat_minor": 2
}
