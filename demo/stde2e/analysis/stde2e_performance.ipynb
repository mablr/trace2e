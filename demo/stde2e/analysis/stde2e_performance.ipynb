{
 "cells": [
  {
   "cell_type": "code",
   "execution_count": null,
   "metadata": {},
   "outputs": [],
   "source": [
    "import pandas as pd\n",
    "import numpy as np\n",
    "import matplotlib.pyplot as plt"
   ]
  },
  {
   "cell_type": "code",
   "execution_count": null,
   "metadata": {},
   "outputs": [],
   "source": [
    "df_tcpstream = pd.read_csv('data/bench_tcpstream.csv', delimiter=';', )\n",
    "df_file = pd.read_csv('data/bench_file.csv', delimiter=';')"
   ]
  },
  {
   "cell_type": "code",
   "execution_count": null,
   "metadata": {},
   "outputs": [],
   "source": [
    "# Calculate the mean of each column for both dataframes\n",
    "tcpstream_means = df_tcpstream.mean()\n",
    "file_means = df_file.mean()\n"
   ]
  },
  {
   "cell_type": "code",
   "execution_count": null,
   "metadata": {},
   "outputs": [],
   "source": [
    "tcpstream_means['io_time'] = tcpstream_means['read_io_time'] + tcpstream_means['write_io_time']\n",
    "file_means['io_time'] = file_means['read_io_time'] + file_means['write_io_time']\n"
   ]
  },
  {
   "cell_type": "code",
   "execution_count": null,
   "metadata": {},
   "outputs": [],
   "source": [
    "tcpstream_means['p2m_overhead'] =  tcpstream_means['read_io_request_req_time'] + tcpstream_means['write_io_request_req_time'] + tcpstream_means['read_io_request_ack_time'] + tcpstream_means['write_io_request_ack_time'] + tcpstream_means['read_io_report_req_time'] + tcpstream_means['write_io_report_req_time'] + tcpstream_means['read_io_report_ack_time'] + tcpstream_means['write_io_report_ack_time']\n",
    "file_means['p2m_overhead'] = file_means['read_io_request_req_time'] + file_means['write_io_request_req_time'] + file_means['read_io_request_ack_time'] + file_means['write_io_request_ack_time'] + file_means['read_io_report_req_time'] + file_means['write_io_report_req_time'] + file_means['read_io_report_ack_time'] + file_means['write_io_report_ack_time']"
   ]
  },
  {
   "cell_type": "code",
   "execution_count": null,
   "metadata": {},
   "outputs": [],
   "source": [
    "tcpstream_means['middleware_overhead'] = tcpstream_means['read_io_request_processing_time'] + tcpstream_means['write_io_request_processing_time'] + tcpstream_means['read_io_report_processing_time'] + tcpstream_means['write_io_report_processing_time']\n",
    "file_means['middleware_overhead'] = file_means['read_io_request_processing_time'] + file_means['write_io_request_processing_time'] + file_means['read_io_report_processing_time'] + file_means['write_io_report_processing_time']"
   ]
  },
  {
   "cell_type": "code",
   "execution_count": null,
   "metadata": {},
   "outputs": [],
   "source": [
    "tcpstream_means['m2m_overhead'] = tcpstream_means['write_reserve_req_time'] + tcpstream_means['write_reserve_ack_time'] + tcpstream_means['write_sync_prov_req_time'] + tcpstream_means['write_sync_prov_ack_time']"
   ]
  },
  {
   "cell_type": "code",
   "execution_count": null,
   "metadata": {},
   "outputs": [],
   "source": [
    "labels = ['File', 'TcpStream']\n",
    "x = np.arange(len(labels))\n",
    "width = 0.35  # width of the bars\n",
    "\n",
    "# Create figure and axis\n",
    "fig, ax = plt.subplots(figsize=(10, 6))\n",
    "\n",
    "# Std IO exec time\n",
    "std_io_time_bars = np.array([file_means['io_time'], tcpstream_means['io_time']])\n",
    "ax.bar(x - width/2, std_io_time_bars, width, label='Standard I/O Execution Time', color='lightsalmon')\n",
    "\n",
    "# Stde2e IO exec time\n",
    "stde2e_io_time_bars = np.array([\n",
    "                        file_means['io_time'] + file_means['middleware_overhead'] + file_means['p2m_overhead'],\n",
    "                        tcpstream_means['io_time'] + tcpstream_means['middleware_overhead'] + tcpstream_means['p2m_overhead']\n",
    "                    ])\n",
    "ax.bar(x + width/2, stde2e_io_time_bars, width, label='Trace2e I/O Execution Time (stde2e)', color='lightblue')\n",
    "\n",
    "# Add labels, title and legend\n",
    "ax.set_xlabel('Resource Type')\n",
    "ax.set_ylabel('Time (microseconds)')\n",
    "ax.set_title('Comparison of I/O Libraries Performance: Standard vs TracE2E')\n",
    "ax.set_xticks(x)\n",
    "ax.set_xticklabels(labels)\n",
    "ax.legend()\n",
    "\n",
    "# Add values on top of the bars\n",
    "for i, v in enumerate(std_io_time_bars):\n",
    "    ax.text(i - width/2, v, f'{v:.0f}', ha='center', va='bottom')\n",
    "for i, v in enumerate(stde2e_io_time_bars):\n",
    "    ax.text(i + width/2, v, f'{v:.0f}', ha='center', va='bottom')\n",
    "\n",
    "# Add a grid to make it easier to read values\n",
    "ax.grid(axis='y', linestyle='--', alpha=0.7)\n",
    "\n",
    "plt.tight_layout()\n",
    "plt.show()"
   ]
  },
  {
   "cell_type": "code",
   "execution_count": null,
   "metadata": {},
   "outputs": [],
   "source": [
    "labels = ['File', 'TcpStream']\n",
    "x = np.arange(len(labels))\n",
    "width = 0.35  # width of the bars\n",
    "\n",
    "# Create figure and axis\n",
    "fig, ax = plt.subplots(figsize=(10, 6))\n",
    "\n",
    "# Stde2e IO exec time\n",
    "stde2e_io_time_bars = np.array([\n",
    "                        file_means['io_time'] + file_means['middleware_overhead'] + file_means['p2m_overhead'],\n",
    "                        tcpstream_means['io_time'] + tcpstream_means['middleware_overhead'] + tcpstream_means['p2m_overhead']\n",
    "                    ])\n",
    "ax.bar(x - width*0.75, stde2e_io_time_bars, width*0.5, label='Total Trace2e I/O Execution Time', color='lightblue')\n",
    "# For the stacked bars\n",
    "# First layer: io_time\n",
    "std_io_time_bars = np.array([file_means['io_time'], tcpstream_means['io_time']])\n",
    "ax.bar(x + width*0.25, \n",
    "        std_io_time_bars, \n",
    "        width*1.5, \n",
    "        label='including Call to Standard Library', \n",
    "        color='lightsalmon')\n",
    "\n",
    "# Second layer: middleware_overhead\n",
    "middleware_overhead_bars = np.array([file_means['middleware_overhead'], tcpstream_means['middleware_overhead']])\n",
    "ax.bar(x + width*0.25, \n",
    "        middleware_overhead_bars, \n",
    "        width*1.5, \n",
    "        bottom=[file_means['io_time'], tcpstream_means['io_time']], \n",
    "        label='including Middleware Overhead', \n",
    "        color='mediumaquamarine')\n",
    "\n",
    "# Third layer: p2m_overhead\n",
    "p2m_overhead_bars = np.array([file_means['p2m_overhead'], tcpstream_means['p2m_overhead']])\n",
    "ax.bar(x + width*0.25, \n",
    "    p2m_overhead_bars, \n",
    "    width*1.5, \n",
    "    bottom=std_io_time_bars+middleware_overhead_bars, \n",
    "    label='including P2M Overhead', \n",
    "    color='gold')\n",
    "\n",
    "# Add labels, title and legend\n",
    "middle_y = std_io_time_bars[i] + middleware_overhead_bars[i] + v*0.5\n",
    "ax.text(i + width*0.25, middle_y, f'{v:.0f}', ha='center', va='center', color='black')\n",
    "\n",
    "ax.set_xlabel('Resource Type')\n",
    "ax.set_ylabel('Time (microseconds)')\n",
    "ax.set_title('TracE2E I/O Overhead Analysis')\n",
    "ax.set_xticks(x)\n",
    "ax.set_xticklabels(labels)\n",
    "ax.legend()\n",
    "\n",
    "# Add values in the middle of the bars\n",
    "for i, v in enumerate(stde2e_io_time_bars):\n",
    "    ax.text(i - width*0.75, v*0.5, f'{v:.0f}', ha='center', va='bottom')\n",
    "\n",
    "for i, v in enumerate(std_io_time_bars):\n",
    "    ax.text(i + width*0.25, v*0.5, f'{v:.0f}', ha='center', va='center', color='black')\n",
    "\n",
    "for i, v in enumerate(middleware_overhead_bars):\n",
    "    middle_y = std_io_time_bars[i] + v*0.5\n",
    "    ax.text(i + width*0.25, middle_y, f'{v:.0f}', ha='center', va='center', color='black')\n",
    "\n",
    "for i, v in enumerate(p2m_overhead_bars):\n",
    "    middle_y = std_io_time_bars[i] + middleware_overhead_bars[i] + v*0.5\n",
    "    ax.text(i + width*0.25, middle_y, f'{v:.0f}', ha='center', va='center', color='black')\n",
    "\n",
    "\n",
    "\n",
    "# Add a grid to make it easier to read values\n",
    "ax.grid(axis='y', linestyle='--', alpha=0.7)\n",
    "\n",
    "plt.tight_layout()\n",
    "plt.show()"
   ]
  }
 ],
 "metadata": {
  "kernelspec": {
   "display_name": ".venv",
   "language": "python",
   "name": "python3"
  },
  "language_info": {
   "codemirror_mode": {
    "name": "ipython",
    "version": 3
   },
   "file_extension": ".py",
   "mimetype": "text/x-python",
   "name": "python",
   "nbconvert_exporter": "python",
   "pygments_lexer": "ipython3",
   "version": "3.11.2"
  }
 },
 "nbformat": 4,
 "nbformat_minor": 2
}
